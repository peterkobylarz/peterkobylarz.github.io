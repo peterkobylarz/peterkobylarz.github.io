
2022 Yellowstone National Park Flood

In June 2022, parts of Montana and Wyoming experienced an extreme rain event. 2 to 3 inches of rain fell in a short period which caused a large amount of snow to melt. The resulting runoff caused massive flooding throughout Yellowstone National Park. Multiple park entrances were closed and park infrastructure, particularly roads and bridge, sustained high levels of damage.

Climatology: The more arid northern regions of YNP receive approximately 15 to 20 inches of rain per year. Average summer daytime high temperatures range from 70°F to 80°F

Ecology: Yellowstone National Park is known for it's diverse and pristine landscapes, including rugged mountains, high desert, riverine valleys, and mixed conifer forests. Yellowstone is home to many species of plants and wildlife but is most well known for large populations of bison, elk, pronghorn, bighorn sheep, mule deer, and coyotes. Wolves and grizzly bears are also present here.

Communities and Infrastructure: Yellowstone National Park is largely undeveloped but a network of roads, campgrounds, interpretive centers, hotels, and other recreational facilities are present.

import subprocess
import warnings

from io import BytesIO

import folium
import hvplot.pandas
import hydrofunctions as hf
import pandas as pd
import requests

warnings.filterwarnings('ignore')

Map showing the location of the Lamar River USGS Stream Gauge

sg_lat =  44.92817778 
sg_lon =  -110.3942694 

# Initialize map and tweak settings
m = folium.Map(
    # Location to display
    location=(sg_lat, sg_lon),
    # Turns off annoying zooming while trying to scroll to the next cell
    scrollWheelZoom=False,
    tiles = "https://server.arcgisonline.com/ArcGIS/rest/services/NatGeo_World_Map/MapServer/tile/{z}/{y}/{x}",
    attr = 'Tiles &copy; Esri &mdash; National Geographic, Esri, DeLorme, NAVTEQ, UNEP-WCMC, USGS, NASA, ESA, METI, NRCAN, GEBCO, NOAA, iPC',
    zoom_start = 9,
    width= 1000,
    height=1000
)

# Put a marker at the stream gauge location
folium.Marker([sg_lat, sg_lon], popup="Lamar River USGS Gauge, Yellowstone NP").add_to(m)

# Display the map
m

Make this Notebook Trusted to load map: File -> Trust Notebook

# URL for stream flow data for Lamar River USGS gauge

ynp_usgs_url = ("https://waterdata.usgs.gov/nwis/dv?cb_00060=on&format="
            "rdb&site_no=06188000&legacy=&referred_module=sw&period="
            "&begin_date=1923-10-01&end_date=2023-09-17")

ynp_usgs_url

ynp_response = requests.get(ynp_usgs_url)

# parse csv into dataframe for all data

ynp_streamflow = pd.read_csv(
    BytesIO(ynp_response.content),
    comment='#',
    delimiter='\t',
    skiprows=[29, 30],
    names=['Agency', 'Site', 'Date', 'CFS', 'Code'],
    index_col='Date',
    parse_dates=True,
)

ynp_streamflow

ynp_plot_all = ynp_streamflow.hvplot(x='Date', y='CFS',
                                             title='Stream Discharge - Missouri River in Omaha, NE, October 2018 through September 2020',
                                             ylabel='Discharge (cubic feet per second)',
                                             xlabel='Date',
                                             )
ynp_plot_all

# make a subset of the data starting in 1989 after a gap in monitoring

ynp_subset = ynp_streamflow['1989':]

ynp_subset_plot = ynp_subset.hvplot(x='Date', y='CFS',
                                             title='Stream Discharge - Lamar River in Yellowstone National Park, 1989 through present',
                                             ylabel='Discharge (cubic feet per second)',
                                             xlabel='Date',
                                             yformatter='%.0f',
                                             width=1000
                                             )
ynp_subset_plot

The following plot shows maximum annual stream dischage for the Lamar River USGS site in Yellowstone National Park

# resample for maximum values

ynp_resample = ynp_subset[['CFS']].resample('AS').max()

ynp_resample_plot = ynp_resample.hvplot(x='Date', y='CFS',
                                             title='Max Annual Stream Discharge - Lamar River in Yellowstone National Park, 1989 through present',
                                             ylabel='Discharge (cubic feet per second)',
                                             xlabel='Date',
                                             yformatter='%.0f',
                                             width=1000
                                             )
ynp_resample_plot

The following table shows exceedence propability and flood return period over the 35 years since data began being collected again after a pause of several decades.

# calculate exceedance probability and return period

ynp_flood_ranked = (
    ynp_resample.rank(ascending=False)
    / len (ynp_resample)
)

ynp_copy = ynp_resample

ynp_copy['Exceedance_Prob'] = ynp_flood_ranked

ynp_copy['Return_Period'] = (
    1 / ynp_copy.Exceedance_Prob
)

ynp_copy

	CFS 	Exceedance_Prob 	Return_Period
Date 			
1989-01-01 	7310.0 	0.742857 	1.346154
1990-01-01 	6870.0 	0.771429 	1.296296
1991-01-01 	8650.0 	0.571429 	1.750000
1992-01-01 	6560.0 	0.828571 	1.206897
1993-01-01 	9580.0 	0.457143 	2.187500
1994-01-01 	7490.0 	0.714286 	1.400000
1995-01-01 	11200.0 	0.242857 	4.117647
1996-01-01 	15600.0 	0.057143 	17.500000
1997-01-01 	15000.0 	0.085714 	11.666667
1998-01-01 	5530.0 	0.914286 	1.093750
1999-01-01 	9800.0 	0.371429 	2.692308
2000-01-01 	8210.0 	0.657143 	1.521739
2001-01-01 	6850.0 	0.800000 	1.250000
2002-01-01 	10700.0 	0.285714 	3.500000
2003-01-01 	11600.0 	0.200000 	5.000000
2004-01-01 	5130.0 	0.971429 	1.029412
2005-01-01 	8580.0 	0.600000 	1.666667
2006-01-01 	8570.0 	0.628571 	1.590909
2007-01-01 	6080.0 	0.857143 	1.166667
2008-01-01 	9340.0 	0.485714 	2.058824
2009-01-01 	10400.0 	0.342857 	2.916667
2010-01-01 	13900.0 	0.114286 	8.750000
2011-01-01 	12300.0 	0.142857 	7.000000
2012-01-01 	8840.0 	0.514286 	1.944444
2013-01-01 	8780.0 	0.542857 	1.842105
2014-01-01 	11700.0 	0.171429 	5.833333
2015-01-01 	5280.0 	0.942857 	1.060606
2016-01-01 	4580.0 	1.000000 	1.000000
2017-01-01 	9720.0 	0.400000 	2.500000
2018-01-01 	10600.0 	0.314286 	3.181818
2019-01-01 	9590.0 	0.428571 	2.333333
2020-01-01 	11200.0 	0.242857 	4.117647
2021-01-01 	5960.0 	0.885714 	1.129032
2022-01-01 	23800.0 	0.028571 	35.000000
2023-01-01 	8170.0 	0.685714 	1.458333
The following plot illustrates flood return period for the 35 years analyzed.

ynp_analysis_plot = ynp_resample.hvplot.bar(x='Date', y='Return_Period',
                                             title='Flood Return Period - Lamar River in Yellowstone National Park, 1989 through present',
                                             ylabel='Discharge (cubic feet per second)',
                                             xlabel='Date',
                                             yformatter='%.0f',
                                             width=1000,
                                             rot = 90
                                             )

ynp_analysis_plot

The following plot illustrates the exceedance propability for the 35 years analyzed.

ynp_analysis_plot = ynp_resample.hvplot.bar(x='Date', y='Exceedance_Prob',
                                             title='Exceedance Probability - Lamar River in Yellowstone National Park, 1989 through present',
                                             ylabel='Discharge (cubic feet per second)',
                                             xlabel='Date',
                                             yformatter='%.0f',
                                             width=1000,
                                             rot = 90
                                             )

ynp_analysis_plot

%%bash
jupyter nbconvert yellowstone_flood.ipynb --to html --no-input

[NbConvertApp] Converting notebook yellowstone_flood.ipynb to html
/opt/conda/share/jupyter/nbconvert/templates/base/display_priority.j2:32: UserWarning: Your element with mimetype(s) dict_keys([]) is not able to be represented.
  {%- elif type == 'text/vnd.mermaid' -%}
[NbConvertApp] Writing 1415166 bytes to yellowstone_flood.html


