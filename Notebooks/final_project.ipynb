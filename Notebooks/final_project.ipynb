{
 "cells": [
  {
   "cell_type": "code",
   "execution_count": 37,
   "id": "1a364ec4-5a2c-4498-95b4-824d43f24ce9",
   "metadata": {
    "tags": []
   },
   "outputs": [
    {
     "name": "stdout",
     "output_type": "stream",
     "text": [
      "C:\\Users\\Pete\\earth-analytics\\data\n"
     ]
    }
   ],
   "source": [
    "import os\n",
    "from glob import glob\n",
    "import pathlib\n",
    "import shutil\n",
    "\n",
    "import earthpy as et\n",
    "import earthpy.earthexplorer as etee\n",
    "import earthpy.spatial as es\n",
    "import geopandas as gpd\n",
    "import geoviews as gv\n",
    "import holoviews as hv\n",
    "import hvplot.pandas\n",
    "import hvplot.xarray\n",
    "import numpy as np\n",
    "import pandas as pd\n",
    "import panel as pn\n",
    "import rioxarray as rxr\n",
    "import rioxarray.merge as rxrm\n",
    "\n",
    "data_dir = os.path.join(et.io.HOME, et.io.DATA_NAME)\n",
    "project_dir = os.path.join(data_dir, 'grassland-analysis')\n",
    "#ndvi_dir = os.path.join(data_dir, 'oakland-green-space', 'processed')\n",
    "\n",
    "for a_dir in [data_dir, project_dir]:\n",
    "    if not os.path.exists(a_dir):\n",
    "        os.makedirs(a_dir)"
   ]
  },
  {
   "cell_type": "markdown",
   "id": "18823bb2-8137-4d26-9289-5687c3a08434",
   "metadata": {},
   "source": [
    "### Habitat Suitability Modeling for Sorghastrum nutans\n",
    "\n",
    "We are building a habitat suitability model for this grassland type. Research the grass and add information and citations here!\n",
    "\n",
    "I am going to analyze the Pawnee National Grassland and Thunder Basin National Grassland units. This data is downloaded from here, make sure to provide a citation!\n",
    "\n",
    "https://www.gbif.org/species/2704414"
   ]
  },
  {
   "cell_type": "code",
   "execution_count": 42,
   "id": "c5ccfac1-b238-4d14-a977-4bb825cf9c12",
   "metadata": {
    "tags": []
   },
   "outputs": [
    {
     "name": "stdout",
     "output_type": "stream",
     "text": [
      "True\n"
     ]
    },
    {
     "data": {
      "text/html": [
       "<div>\n",
       "<style scoped>\n",
       "    .dataframe tbody tr th:only-of-type {\n",
       "        vertical-align: middle;\n",
       "    }\n",
       "\n",
       "    .dataframe tbody tr th {\n",
       "        vertical-align: top;\n",
       "    }\n",
       "\n",
       "    .dataframe thead th {\n",
       "        text-align: right;\n",
       "    }\n",
       "</style>\n",
       "<table border=\"1\" class=\"dataframe\">\n",
       "  <thead>\n",
       "    <tr style=\"text-align: right;\">\n",
       "      <th></th>\n",
       "      <th>NATIONALGR</th>\n",
       "      <th>GIS_ACRES</th>\n",
       "      <th>SHAPE_AREA</th>\n",
       "      <th>SHAPE_LEN</th>\n",
       "      <th>geometry</th>\n",
       "    </tr>\n",
       "    <tr>\n",
       "      <th>GRASSLANDN</th>\n",
       "      <th></th>\n",
       "      <th></th>\n",
       "      <th></th>\n",
       "      <th></th>\n",
       "      <th></th>\n",
       "    </tr>\n",
       "  </thead>\n",
       "  <tbody>\n",
       "    <tr>\n",
       "      <th>Thunder Basin National Grassland</th>\n",
       "      <td>295513010328</td>\n",
       "      <td>626249.208</td>\n",
       "      <td>0.282888</td>\n",
       "      <td>44.088050</td>\n",
       "      <td>MULTIPOLYGON (((-105.46005 43.31908, -105.4601...</td>\n",
       "    </tr>\n",
       "    <tr>\n",
       "      <th>Pawnee National Grassland</th>\n",
       "      <td>295523010328</td>\n",
       "      <td>208424.885</td>\n",
       "      <td>0.089972</td>\n",
       "      <td>15.341594</td>\n",
       "      <td>MULTIPOLYGON (((-104.58106 40.82664, -104.5810...</td>\n",
       "    </tr>\n",
       "  </tbody>\n",
       "</table>\n",
       "</div>"
      ],
      "text/plain": [
       "                                    NATIONALGR   GIS_ACRES  SHAPE_AREA  \\\n",
       "GRASSLANDN                                                               \n",
       "Thunder Basin National Grassland  295513010328  626249.208    0.282888   \n",
       "Pawnee National Grassland         295523010328  208424.885    0.089972   \n",
       "\n",
       "                                  SHAPE_LEN  \\\n",
       "GRASSLANDN                                    \n",
       "Thunder Basin National Grassland  44.088050   \n",
       "Pawnee National Grassland         15.341594   \n",
       "\n",
       "                                                                           geometry  \n",
       "GRASSLANDN                                                                           \n",
       "Thunder Basin National Grassland  MULTIPOLYGON (((-105.46005 43.31908, -105.4601...  \n",
       "Pawnee National Grassland         MULTIPOLYGON (((-104.58106 40.82664, -104.5810...  "
      ]
     },
     "execution_count": 42,
     "metadata": {},
     "output_type": "execute_result"
    }
   ],
   "source": [
    "# Download grassland unit shapefile\n",
    "gl_unit_path = os.path.join(\n",
    "    data_dir,\n",
    "    'earthpy-downloads',\n",
    "    'S_USA.NationalGrassland',\n",
    "    'S_USA.NationalGrassland.shp'\n",
    ")\n",
    "if not os.path.exists(gl_unit_path):\n",
    "    print('downloading ' + gl_url)\n",
    "    gl_url = ('https://data.fs.usda.gov/geodata/edw/'\n",
    "              'edw_resources/shp/S_USA.NationalGrassland.zip')\n",
    "    gl_zip = et.data.get_data(url=gl_url)\n",
    "    \n",
    "gl_unit_gdf = (\n",
    "    gpd.read_file(gl_unit_path).set_index('GRASSLANDN')\n",
    "    .loc[['Thunder Basin National Grassland', 'Pawnee National Grassland']]\n",
    "    .to_crs(4326)\n",
    ")\n",
    "gl_unit_gdf"
   ]
  },
  {
   "cell_type": "code",
   "execution_count": 40,
   "id": "a9bce1c3-4a28-4eac-82b6-e76c29fab58c",
   "metadata": {
    "tags": []
   },
   "outputs": [
    {
     "name": "stdout",
     "output_type": "stream",
     "text": [
      "C:\\Users\\Pete\\earth-analytics\\data\\grassland-analysis\n"
     ]
    }
   ],
   "source": [
    "print(project_dir)"
   ]
  },
  {
   "cell_type": "markdown",
   "id": "bee38c3d-42a6-4e38-8a59-e3c6caff16a0",
   "metadata": {},
   "source": [
    "### Habitat Characteristics\n",
    "\n",
    "We are going to use the following characteristics for the habitat model:\n",
    "\n",
    "- median clay soil percentage from 15cm to 30cm- http://hydrology.cee.duke.edu/POLARIS/PROPERTIES/v1.0/clay/p50/15_30/\n",
    "\n"
   ]
  },
  {
   "cell_type": "code",
   "execution_count": 53,
   "id": "c783e567-8e06-4543-9be2-e3b57c2843f4",
   "metadata": {
    "tags": []
   },
   "outputs": [
    {
     "name": "stdout",
     "output_type": "stream",
     "text": [
      "Thunder Basin National Grassland (-105.68534577740812, 43.13179205151148, -104.3147230581148, 44.78726284154685)\n",
      "Pawnee National Grassland (-104.79144253125483, 40.609566404744555, -103.57328571411065, 41.001847062442295)\n",
      "lat4344_lon-105-104.tif\n",
      "lat4344_lon-106-105.tif\n",
      "lat4445_lon-105-104.tif\n",
      "lat4445_lon-106-105.tif\n",
      "lat4041_lon-104-103.tif\n",
      "lat4041_lon-105-104.tif\n"
     ]
    }
   ],
   "source": [
    "# Download habitat characteristic data\n",
    "\n",
    "# Identify bounds of units to be able to select right file to download\n",
    "for unit, details in gl_unit_gdf.iterrows():\n",
    "    bbox = etee.BBox(*details.geometry.bounds)\n",
    "    print(unit + ' ' +str(details.geometry.bounds))\n",
    "\n",
    "soil_list = ['lat4344_lon-105-104.tif',\n",
    "             'lat4344_lon-106-105.tif',\n",
    "             'lat4445_lon-105-104.tif',\n",
    "             'lat4445_lon-106-105.tif',\n",
    "             'lat4041_lon-104-103.tif',\n",
    "             'lat4041_lon-105-104.tif']\n",
    "\n",
    "for file in soil_list:\n",
    "    print(file)\n",
    "    file_path = os.path.join(\n",
    "        data_dir,\n",
    "        'earthpy-downloads',\n",
    "        file\n",
    "    )\n",
    "    if not os.path.exists(file_path):\n",
    "        url = ('http://hydrology.cee.duke.edu/POLARIS/'\n",
    "        'PROPERTIES/v1.0/clay/p50/15_30/' + file\n",
    "              )\n",
    "        print(url)\n",
    "        et.data.get_data(url=url)\n",
    "    "
   ]
  },
  {
   "cell_type": "code",
   "execution_count": null,
   "id": "c8eb733b-0425-4532-b5b5-b0c39f6d897d",
   "metadata": {},
   "outputs": [],
   "source": []
  }
 ],
 "metadata": {
  "kernelspec": {
   "display_name": "Python 3 (ipykernel)",
   "language": "python",
   "name": "python3"
  },
  "language_info": {
   "codemirror_mode": {
    "name": "ipython",
    "version": 3
   },
   "file_extension": ".py",
   "mimetype": "text/x-python",
   "name": "python",
   "nbconvert_exporter": "python",
   "pygments_lexer": "ipython3",
   "version": "3.10.13"
  }
 },
 "nbformat": 4,
 "nbformat_minor": 5
}
